{
 "cells": [
  {
   "cell_type": "code",
   "execution_count": 4,
   "metadata": {
    "collapsed": false
   },
   "outputs": [],
   "source": [
    "import dlc_bci as bci\n",
    "import torch\n",
    "from torch.autograd import Variable\n",
    "from torch import nn\n",
    "from torch import optim\n",
    "from torch.nn import functional as F\n",
    "import numpy as np"
   ]
  },
  {
   "cell_type": "markdown",
   "metadata": {},
   "source": [
    "## Loading data"
   ]
  },
  {
   "cell_type": "code",
   "execution_count": 5,
   "metadata": {
    "collapsed": false
   },
   "outputs": [],
   "source": [
    "train_input , train_target = bci.load ( root = \"./ data_bci\")"
   ]
  },
  {
   "cell_type": "code",
   "execution_count": 6,
   "metadata": {
    "collapsed": false
   },
   "outputs": [
    {
     "name": "stdout",
     "output_type": "stream",
     "text": [
      "<class 'torch.FloatTensor'> torch.Size([316, 28, 50])\n",
      "<class 'torch.LongTensor'> torch.Size([316])\n",
      "<class 'torch.FloatTensor'> torch.Size([100, 28, 50])\n",
      "<class 'torch.LongTensor'> torch.Size([100])\n"
     ]
    }
   ],
   "source": [
    "print(str(type(train_input)) , train_input.size())\n",
    "print ( str(type(train_target)) , train_target.size())\n",
    "test_input , test_target = bci.load ( root = \"./ data_bci \" , train = False )\n",
    "print (str(type(test_input)) , test_input.size())\n",
    "print (str(type(test_target)) , test_target.size())\n",
    "\n",
    "train_target = Variable(train_target)\n",
    "train_input = Variable(train_input)\n",
    "test_input = Variable(test_input)\n",
    "test_target = Variable(test_target)"
   ]
  },
  {
   "cell_type": "markdown",
   "metadata": {},
   "source": [
    "### Basic features of the data:\n",
    "** There are 157 positive samples and 159 negative ones. So the dataset is balanced. **"
   ]
  },
  {
   "cell_type": "code",
   "execution_count": null,
   "metadata": {
    "collapsed": true
   },
   "outputs": [],
   "source": []
  },
  {
   "cell_type": "markdown",
   "metadata": {},
   "source": [
    "## Usefule functions"
   ]
  },
  {
   "cell_type": "code",
   "execution_count": 216,
   "metadata": {
    "collapsed": true
   },
   "outputs": [],
   "source": [
    "# The function computes the accuracy\n",
    "def accuracy(output,target):\n",
    "    return (output==target).sum().float()/len(output)"
   ]
  },
  {
   "cell_type": "markdown",
   "metadata": {},
   "source": [
    "## A simple logistic regression as a baseline"
   ]
  },
  {
   "cell_type": "code",
   "execution_count": null,
   "metadata": {
    "collapsed": true
   },
   "outputs": [],
   "source": []
  },
  {
   "cell_type": "code",
   "execution_count": 177,
   "metadata": {
    "collapsed": false,
    "scrolled": true
   },
   "outputs": [
    {
     "data": {
      "text/plain": [
       "Variable containing:\n",
       "( 0 ,.,.) = \n",
       " -2.2807e+01 -2.5843e+01 -2.0557e+01  ...  -1.8368e+01 -2.4839e+01 -2.3336e+01\n",
       "\n",
       "( 1 ,.,.) = \n",
       "  6.3918e+01  7.1936e+01  6.2250e+01  ...   4.1918e+01  4.2932e+01  4.2332e+01\n",
       "\n",
       "( 2 ,.,.) = \n",
       "  2.9907e+01  3.6454e+01  3.7275e+01  ...   3.2225e+01  2.1889e+01  1.7400e+01\n",
       "... \n",
       "\n",
       "(97 ,.,.) = \n",
       "  3.3243e+01  1.8914e+01  2.6257e+01  ...  -1.7071e+01 -2.4182e+01 -2.3114e+01\n",
       "\n",
       "(98 ,.,.) = \n",
       "  3.4329e+01  3.5475e+01  2.3857e+01  ...   2.0664e+01  2.3146e+01  3.0532e+01\n",
       "\n",
       "(99 ,.,.) = \n",
       "  4.3393e+01  4.2725e+01  4.2943e+01  ...   6.6357e+00 -2.4143e+00  1.4239e+01\n",
       "[torch.FloatTensor of size 100x1x50]"
      ]
     },
     "execution_count": 177,
     "metadata": {},
     "output_type": "execute_result"
    }
   ],
   "source": [
    "## average over the channels for the logistic regression\n",
    "train_1 = train_input.mean(dim=1)\n",
    "test_1 = test_input.mean(dim=1)\n",
    "train_1.unsqueeze_(dim=1)\n",
    "test_1.unsqueeze_(dim=1)\n"
   ]
  },
  {
   "cell_type": "code",
   "execution_count": 206,
   "metadata": {
    "collapsed": false
   },
   "outputs": [],
   "source": [
    "## define the model\n",
    "class Net(nn.Module):\n",
    "    def __init__(self):\n",
    "        super(Net, self).__init__()\n",
    "        self.fc1 = nn.Linear(50, 2)\n",
    "    def forward(self, x):\n",
    "        x = self.fc1(x)\n",
    "        return x\n",
    "net = Net()"
   ]
  },
  {
   "cell_type": "code",
   "execution_count": 207,
   "metadata": {
    "collapsed": false
   },
   "outputs": [
    {
     "data": {
      "text/plain": [
       "316"
      ]
     },
     "execution_count": 207,
     "metadata": {},
     "output_type": "execute_result"
    }
   ],
   "source": [
    "train_1.size(0)"
   ]
  },
  {
   "cell_type": "code",
   "execution_count": 215,
   "metadata": {
    "collapsed": false
   },
   "outputs": [
    {
     "name": "stdout",
     "output_type": "stream",
     "text": [
      "0.5928369164466858 0.6898733973503113\n",
      "0.5928605198860168 0.6867088675498962\n",
      "0.5928493738174438 0.6867088675498962\n",
      "0.5928380489349365 0.6867088675498962\n",
      "0.592825710773468 0.6867088675498962\n",
      "0.5928138494491577 0.6867088675498962\n",
      "0.5928025245666504 0.6867088675498962\n",
      "0.5927903652191162 0.6867088675498962\n",
      "0.5927795767784119 0.6867088675498962\n",
      "0.5927684307098389 0.6867088675498962\n",
      "0.592757523059845 0.6867088675498962\n",
      "0.5927469730377197 0.6867088675498962\n",
      "0.5927364230155945 0.6867088675498962\n",
      "0.5927261114120483 0.6867088675498962\n",
      "0.5927165150642395 0.6867088675498962\n",
      "0.5927066206932068 0.6867088675498962\n",
      "0.5926966667175293 0.6867088675498962\n",
      "0.5926876068115234 0.6867088675498962\n",
      "0.5926783084869385 0.6867088675498962\n",
      "0.5926693677902222 0.6867088675498962\n"
     ]
    }
   ],
   "source": [
    "### train the model\n",
    "epoch = 400\n",
    "batch_size = 10\n",
    "criterion = nn.CrossEntropyLoss()\n",
    "optimizer = optim.SGD(net.parameters(),lr = 0.000001, momentum=0.9)\n",
    "for e in range(epoch):\n",
    "    for b in range(0,train_1.size(0),batch_size):\n",
    "        input_ = train_1.narrow(0,b,min(batch_size,train_1.size(0)-b))\n",
    "        target = train_target.narrow(0,b,min(batch_size,train_1.size(0)-b))\n",
    "        output = net(input_).view(min(batch_size,train_1.size(0)-b),2)\n",
    "        loss = criterion(output,target)\n",
    "        net.zero_grad()\n",
    "        loss.backward()\n",
    "        optimizer.step()\n",
    "    if e%20 == 0: # print the loss every 10 epochs\n",
    "        output = net(test_1).view(-1,2)\n",
    "        a,predicted_class = output.max(dim=1)\n",
    "        print(criterion(output,train_target).data[0],accuracy(predicted_class,train_target).data[0])"
   ]
  },
  {
   "cell_type": "code",
   "execution_count": 189,
   "metadata": {
    "collapsed": false
   },
   "outputs": [],
   "source": []
  },
  {
   "cell_type": "code",
   "execution_count": null,
   "metadata": {
    "collapsed": true
   },
   "outputs": [],
   "source": []
  }
 ],
 "metadata": {
  "kernelspec": {
   "display_name": "Python [Root]",
   "language": "python",
   "name": "Python [Root]"
  },
  "language_info": {
   "codemirror_mode": {
    "name": "ipython",
    "version": 3
   },
   "file_extension": ".py",
   "mimetype": "text/x-python",
   "name": "python",
   "nbconvert_exporter": "python",
   "pygments_lexer": "ipython3",
   "version": "3.5.2"
  }
 },
 "nbformat": 4,
 "nbformat_minor": 2
}
