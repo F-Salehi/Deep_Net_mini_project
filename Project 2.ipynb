{
 "cells": [
  {
   "cell_type": "code",
   "execution_count": 1,
   "metadata": {},
   "outputs": [],
   "source": [
    "import torch\n",
    "from torch import Tensor\n",
    "import numpy as np"
   ]
  },
  {
   "cell_type": "markdown",
   "metadata": {},
   "source": [
    "# Auxiliary Classes"
   ]
  },
  {
   "cell_type": "code",
   "execution_count": 2,
   "metadata": {},
   "outputs": [],
   "source": [
    "class layer_par:\n",
    "    \"\"\"\n",
    "    This class contains parameters of each layer. We initialize them in constructor.\n",
    "    \n",
    "    inputs:\n",
    "        dim_in      :  the input_ dimension of fully connected layer\n",
    "        dim_out     :  the output_ dimension of fully connected layer\n",
    "        \n",
    "    returns:\n",
    "        Nothing\n",
    "    \"\"\"\n",
    "    \n",
    "    def __init__(self, dim_in, dim_out):\n",
    "        self.dim_in  = dim_in\n",
    "        self.dim_out = dim_out\n",
    "        self.b = Tensor(dim_out,1).fill_(0)         # bias of each layer\n",
    "        self.w = Tensor(dim_out,dim_in).normal_()   # w of each layer\n",
    "    # TODO: I suggest that we add activation to this as well\n",
    "    \n",
    "    \n",
    "class forward_par:    # change the name to: \"forward_par_of_layer\n",
    "    \"\"\"\n",
    "    This class keeps track of all the variables produced in forward pass of some layer. i.e, x and s.\n",
    "    \n",
    "    inputs:\n",
    "        layer       :  the layer number\n",
    "        dim_in      :  the input_ dimension of fully connected layer\n",
    "        dim_out     :  the output_ dimension of fully connected layer\n",
    "        \n",
    "    returns:\n",
    "        Nothing\n",
    "    \"\"\"\n",
    "    def __init__(self, dim_out):\n",
    "        self.s = Tensor(dim_out).fill_(0)           # s after each layer\n",
    "        self.x = Tensor(dim_out).fill_(0)           # x after each layer:   x = Activation (s)\n",
    "    \n",
    "        \n",
    "class backward_par:   # or backward par\n",
    "    \"\"\"\n",
    "    This class keeps track of all the variables we need to evaluate the damn gradients for each layer...\n",
    "    \n",
    "    inputs:\n",
    "        dim_in      :  the input_ dimension of fully connected layer\n",
    "        dim_out     :  the output_ dimension of fully connected layer\n",
    "        \n",
    "    returns:\n",
    "        Nothing\n",
    "    \"\"\"\n",
    "    def __init__(self, dim_in, dim_out):\n",
    "        self.db = Tensor(dim_out,1).fill_(0)         # bias of each layer\n",
    "        self.dw = Tensor(dim_out,dim_in).fill_(0)   # w of each layer\n",
    "        self.ds = Tensor(dim_out).fill_(0)           # s after each layer\n",
    "        self.dx = Tensor(dim_out).fill_(0)\n",
    "        \n",
    "        \n",
    "class Linear:\n",
    "    \"\"\"\n",
    "    An class that contains objects which only store layar's in/out connections dimension\n",
    "    \n",
    "    input_s:\n",
    "        dim_in      :  the input_ dimension of fully connected layer\n",
    "        dim_out     :  the output_ dimension of fully connected layer\n",
    "        \n",
    "    returns:\n",
    "        Nothing \n",
    "    \"\"\"\n",
    "    \n",
    "    def __init__(self,dim_in, dim_out):\n",
    "        self.input_ = dim_in\n",
    "        self.output_ = dim_out          \n",
    "    # TODO: The linear is really wierd thing... all we get here is already in the upper class. we may omit this somehow\n",
    "\n",
    "        \n",
    "def Activation(code,input_):\n",
    "    \"\"\"\n",
    "    A class that specify the needed activation with respect to the following code conversion\n",
    "        0: Relu(x)\n",
    "        1: Tanh(x)\n",
    "        2: Sigmoid(x)\n",
    "    \n",
    "    This class works as functional package of pytorch\n",
    "    \n",
    "    input_s:\n",
    "        code        :  the code for each activation (0,1,2)\n",
    "        input__tensor:  the input_ tensor\n",
    "        \n",
    "    returns:\n",
    "        result      :  the output_ of requested activation function with the same shape as input_ tensor\n",
    "    \"\"\"\n",
    "    result = Tensor(input_.shape)\n",
    "    # Relu\n",
    "    if code ==0:\n",
    "        result = input_ - (input_<0).float()*input_\n",
    "    # Tanh\n",
    "    elif code ==1:\n",
    "        result = torch.tanh(input_)\n",
    "    # Sig\n",
    "    elif code ==2:\n",
    "        result = 1.0/(1 + torch.exp(-input_))\n",
    "    # error\n",
    "    else: raise ValueError('Unknown Code For Activation')\n",
    "        \n",
    "    return result \n",
    "\n",
    "\n",
    "def dActivation(code,input_):\n",
    "    \"\"\"\n",
    "    A class that specify the needed derivative of activation with the same encoding convenstion\n",
    "        0: dRelu(x)\n",
    "        1: dTanh(x)\n",
    "        2: dSigmoid(x)\n",
    "    \n",
    "    This class works as functional package of pytorch\n",
    "    \n",
    "    input_s:\n",
    "        code        :  the code for each activation (0,1,2)\n",
    "        input__tensor:  the input_ tensor\n",
    "        \n",
    "    returns:\n",
    "        result      :  the output_ of requested activation function with the same shape as input_ tensor\n",
    "    \"\"\"\n",
    "    result = Tensor.new(input_)\n",
    "    # dRelu\n",
    "    if code ==0:\n",
    "        result = Tensor(input_.shape).fill_(1.0) - (input_<0).float()*Tensor(input_.shape).fill_(1.0)\n",
    "    # dTanh\n",
    "    elif code ==1:\n",
    "        result = 1-(torch.tanh(input_))**2\n",
    "    # dSig\n",
    "    elif code ==2:\n",
    "        result = Activation(code,input_)*(1-Activation(code,input_))\n",
    "    # error\n",
    "    else: raise ValueError('Unknown Code For derivative of Activation')\n",
    "    \n",
    "    return result \n",
    "\n"
   ]
  },
  {
   "cell_type": "markdown",
   "metadata": {},
   "source": [
    "# Network Class"
   ]
  },
  {
   "cell_type": "code",
   "execution_count": 88,
   "metadata": {},
   "outputs": [],
   "source": [
    "class Net:\n",
    "    \"\"\"\n",
    "    The network class. It has the following methods:\n",
    "        param      :  returns the parameter which is asked for. Not the data! The object... \n",
    "                        Data is accessible through object.data method)\n",
    "        make_arch  :  makes the architecture of the network by taking a sequential list of [fc1,act1,fc2,act2,...]\n",
    "    \"\"\"\n",
    "    \n",
    "    #TODO:\n",
    "    \n",
    "    \n",
    "    def __init__(self, seq=[]):\n",
    "        self.param_list    = [] # Stores parameters of each layer (W,b).                               type: layer_par\n",
    "        self.forward_list  = [] # Stores forward pass parameters of each layer (s,x).                  type: forward_par\n",
    "        self.backward_list = [] # Stores backward pass parameters of each layer (grads) (ds,dx,dW,db)  type: backward_par\n",
    "        \n",
    "        self.n_layer = 0\n",
    "        self.act_list = []      # stores the requested activation functions in codes. Elements are \"0\",\"1\" or \"2\"\n",
    "        self.make_arch(seq)     # makes the architecture based on the the list \"seq\"\n",
    "        \n",
    "        \n",
    "    # a user-friendly-named method fo access w,b and s at each layer\n",
    "    def get_param_of_layer(self,layer):  \n",
    "        return self.param_list[layer]\n",
    "    \n",
    "    # a user-friendly-named method fo access grad w.r.t. w,b and s at each layer\n",
    "    def get_forward_par_of_layer(self,layer):\n",
    "        return self.forward_list[layer]\n",
    "    \n",
    "    # a user-friendly-named method fo access grad w.r.t. w,b and s at each layer\n",
    "    def get_grad_of_layer(self,layer):\n",
    "        return self.backward_list[layer]\n",
    "        \n",
    "\n",
    "    \n",
    "    \n",
    "    def make_arch(self,seq):\n",
    "        \n",
    "        seq_len = len(seq)                  # number of layer *2 (because of the activations...)\n",
    "        self.n_layer = seq_len/2            # I just want to have it :)\n",
    "        \n",
    "        for layer in range (0,seq_len,2):\n",
    "            \n",
    "            # seq[layer] is an instance of object \"Linear\". Here we get the in/out dim of the layer\n",
    "            dim_in, dim_out = seq[layer].input_ , seq[layer].output_ \n",
    "            \n",
    "            # initialize the weights of layer\n",
    "            self.param_list.append ( layer_par(dim_in, dim_out) ) \n",
    "            \n",
    "            # activation recognition : encode activations in \"act_list\"\n",
    "            if seq[layer+1]=='relu':\n",
    "                self.act_list.append(0)\n",
    "            elif seq[layer+1]=='tanh':\n",
    "                self.act_list.append(1)\n",
    "            elif seq[layer+1]=='sig':\n",
    "                self.act_list.append(2)\n",
    "            else: raise ValueError('Unknown Activation')\n",
    "                \n",
    "            \n",
    "    def forward(self,x): \n",
    "        for layer, prm in enumerate(self.param_list):       # parameter = param[layer]  \n",
    "            self.forward_list.append( forward_par( self.param_list[layer].dim_out) )\n",
    "            \n",
    "            s = (x.mm(prm.w.t()) + prm.b.t())     # written consistant for batch\n",
    "            self.get_forward_par_of_layer(layer).s = s\n",
    "            x = Activation(self.act_list[layer], s)    \n",
    "            self.get_forward_par_of_layer(layer).x =x\n",
    "            \n",
    "        return x\n",
    "    \n",
    "    \n",
    "    def backward (self):\n",
    "        pass\n",
    "        #for layer in range (self.n_layer-1,-1,-1):\n",
    "            \n",
    "            \n",
    "            \n",
    "    \"\"\"# some aliasing to get rid of nastiness\n",
    "    Forward  = get_forward_par_of_layer\n",
    "    Backward = get_grad_of_layer\n",
    "    Parameter= get_param_of_layer \"\"\"   \n"
   ]
  },
  {
   "cell_type": "markdown",
   "metadata": {},
   "source": [
    "# Loss and SGD"
   ]
  },
  {
   "cell_type": "code",
   "execution_count": 89,
   "metadata": {},
   "outputs": [],
   "source": [
    "def loss(v, t):\n",
    "    l_ = torch.sum(torch.pow(v-t,2))\n",
    "    return l_"
   ]
  },
  {
   "cell_type": "markdown",
   "metadata": {},
   "source": [
    "# Draft, tests, and other stuff"
   ]
  },
  {
   "cell_type": "code",
   "execution_count": 90,
   "metadata": {},
   "outputs": [],
   "source": [
    "seq = [Linear(7,2),'tanh',Linear(2,3),'relu']    \n",
    "model = Net(seq)"
   ]
  },
  {
   "cell_type": "code",
   "execution_count": 91,
   "metadata": {},
   "outputs": [
    {
     "data": {
      "text/plain": [
       "\n",
       " 0.2387  0.6157 -1.1335 -1.3465  0.7350 -0.0715 -0.0611\n",
       " 0.7161  1.8471 -3.4005 -4.0396  2.2050 -0.2144 -0.1832\n",
       " 0.0570  0.3791  1.2848  1.8132  0.5402  0.0051  0.0037\n",
       "[torch.FloatTensor of size 3x7]"
      ]
     },
     "execution_count": 91,
     "metadata": {},
     "output_type": "execute_result"
    }
   ],
   "source": [
    "x = Tensor(7).normal_()\n",
    "X = torch.cat((x.view(1,-1),x.view(1,-1)*3,x.view(1,-1)*x.view(1,-1)),0)\n",
    "X"
   ]
  },
  {
   "cell_type": "code",
   "execution_count": 92,
   "metadata": {},
   "outputs": [
    {
     "data": {
      "text/plain": [
       "\n",
       " 1.1586  0.9911  0.7207\n",
       " 1.2792  1.0473  0.7426\n",
       " 0.0000  0.0000  0.0000\n",
       "[torch.FloatTensor of size 3x3]"
      ]
     },
     "execution_count": 92,
     "metadata": {},
     "output_type": "execute_result"
    }
   ],
   "source": [
    "model.forward(X)"
   ]
  },
  {
   "cell_type": "code",
   "execution_count": 93,
   "metadata": {},
   "outputs": [],
   "source": [
    "w1= model.get_param_of_layer(0).w\n",
    "b1= model.get_param_of_layer(0).b\n",
    "s1= model.get_forward_par_of_layer(0).s\n",
    "x1= model.get_forward_par_of_layer(0).x\n",
    "w2= model.get_param_of_layer(1).w\n",
    "b2= model.get_param_of_layer(1).b\n",
    "s2= model.get_forward_par_of_layer(1).s\n",
    "x2= model.get_forward_par_of_layer(1).x"
   ]
  },
  {
   "cell_type": "code",
   "execution_count": 85,
   "metadata": {},
   "outputs": [
    {
     "data": {
      "text/plain": [
       "(\n",
       "  0.3274  0.6671 -0.5155 -2.0677  1.7135  0.1942 -1.4277\n",
       "  0.9822  2.0012 -1.5464  2.0000  5.1405  0.5827 -4.2832\n",
       "  0.1072  0.4450  0.2657  4.2753  2.9361  0.0377  2.0384\n",
       " [torch.FloatTensor of size 3x7], \n",
       "  0.8610 -0.2548  0.4226  0.8903  0.3311 -2.4686  1.0081\n",
       " -1.5119 -0.2753  0.8157  1.5613 -0.0144 -0.3429 -1.2424\n",
       " [torch.FloatTensor of size 2x7], \n",
       "  0\n",
       "  0\n",
       " [torch.FloatTensor of size 2x1])"
      ]
     },
     "execution_count": 85,
     "metadata": {},
     "output_type": "execute_result"
    }
   ],
   "source": [
    "X,w1,b1"
   ]
  },
  {
   "cell_type": "code",
   "execution_count": 86,
   "metadata": {
    "scrolled": true
   },
   "outputs": [
    {
     "data": {
      "text/plain": [
       "(\n",
       " -0.9973 -0.9900\n",
       " -1.0000 -1.0000\n",
       "  1.0000  0.9994\n",
       " [torch.FloatTensor of size 3x2], \n",
       " -0.1924  0.9060\n",
       " -0.6849 -0.4472\n",
       "  2.2275  1.1698\n",
       " [torch.FloatTensor of size 3x2], \n",
       "  0\n",
       "  0\n",
       "  0\n",
       " [torch.FloatTensor of size 3x1])"
      ]
     },
     "execution_count": 86,
     "metadata": {},
     "output_type": "execute_result"
    }
   ],
   "source": [
    "x1,w2,b2"
   ]
  },
  {
   "cell_type": "code",
   "execution_count": 97,
   "metadata": {},
   "outputs": [
    {
     "data": {
      "text/plain": [
       "(\n",
       "  1.1586  0.9911  0.7207\n",
       "  1.2792  1.0473  0.7426\n",
       "  0.0000  0.0000  0.0000\n",
       " [torch.FloatTensor of size 3x3], \n",
       "  1.1586  0.9911  0.7207\n",
       "  1.2792  1.0473  0.7426\n",
       "  0.0000  0.0000  0.0000\n",
       " [torch.FloatTensor of size 3x3])"
      ]
     },
     "execution_count": 97,
     "metadata": {},
     "output_type": "execute_result"
    }
   ],
   "source": [
    "x2,model.forward(X)"
   ]
  }
 ],
 "metadata": {
  "kernelspec": {
   "display_name": "Python 2",
   "language": "python",
   "name": "python2"
  },
  "language_info": {
   "codemirror_mode": {
    "name": "ipython",
    "version": 2
   },
   "file_extension": ".py",
   "mimetype": "text/x-python",
   "name": "python",
   "nbconvert_exporter": "python",
   "pygments_lexer": "ipython2",
   "version": "2.7.14"
  }
 },
 "nbformat": 4,
 "nbformat_minor": 2
}
