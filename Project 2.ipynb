{
 "cells": [
  {
   "cell_type": "code",
   "execution_count": 1,
   "metadata": {},
   "outputs": [],
   "source": [
    "import torch\n",
    "from torch import Tensor\n",
    "import numpy as np"
   ]
  },
  {
   "cell_type": "markdown",
   "metadata": {},
   "source": [
    "# Auxiliary Classes"
   ]
  },
  {
   "cell_type": "code",
   "execution_count": 20,
   "metadata": {},
   "outputs": [],
   "source": [
    "class layer_par:   # Layer\n",
    "    \"\"\"\n",
    "    This class contains parameters of each layer. We initialize them in constructor.\n",
    "    \n",
    "    inputs:\n",
    "        dim_in      :  the input_ dimension of fully connected layer\n",
    "        dim_out     :  the output_ dimension of fully connected layer\n",
    "        \n",
    "    returns:\n",
    "        Nothing\n",
    "    \"\"\"\n",
    "    \n",
    "    def __init__(self, dim_in, dim_out):\n",
    "        self.dim_in  = dim_in\n",
    "        self.dim_out = dim_out\n",
    "        self.b = Tensor(dim_out,1).fill_(0)         # bias of each layer\n",
    "        self.w = Tensor(dim_out,dim_in).normal_()   # w of each layer\n",
    "    # TODO: I suggest that we add activation to this as well\n",
    "    \n",
    "    \n",
    "class forward_par:    # change the name to: \"ForwardAns\n",
    "    \"\"\"\n",
    "    This class keeps track of all the variables produced in forward pass of some layer. i.e, x and s.\n",
    "    \n",
    "    inputs:\n",
    "        N           :  number of data\n",
    "        dim_in      :  the input_ dimension of fully connected layer\n",
    "        dim_out     :  the output_ dimension of fully connected layer\n",
    "        \n",
    "    returns:\n",
    "        Nothing\n",
    "    \"\"\"\n",
    "    def __init__(self, dim_out, N):\n",
    "        self.s = Tensor(N,dim_out).fill_(0)           # s after each layer\n",
    "        self.x = Tensor(N,dim_out).fill_(0)           # x after each layer:   x = Activation (s)\n",
    "        self.N = N\n",
    "        \n",
    "class backward_par:   # or backward par     #BackwardAns\n",
    "    \"\"\"\n",
    "    This class keeps track of all the variables we need to evaluate the damn gradients for each layer...\n",
    "    \n",
    "    inputs:\n",
    "        N           :  number of data\n",
    "        dim_in      :  the input_ dimension of fully connected layer\n",
    "        dim_out     :  the output_ dimension of fully connected layer\n",
    "\n",
    "    \"\"\"\n",
    "    #TODO: check the size of db\n",
    "    def __init__(self, dim_in, dim_out, N):\n",
    "        self.db = Tensor(N, dim_out,1).fill_(0)         # dL/db\n",
    "        self.dw = Tensor(N, dim_out,dim_in).fill_(0)    # dL/dw      # WARNING: out*in or in*out\n",
    "        self.ds = Tensor(N, dim_out).fill_(0)           # dL/ds\n",
    "        self.dx = Tensor(N, dim_out).fill_(0)           # dL/dx\n",
    "        \n",
    "        \n",
    "class Linear:\n",
    "    \"\"\"\n",
    "    An class that contains objects which only store layar's in/out connections dimension\n",
    "    \n",
    "    input_s:\n",
    "        dim_in      :  the input_ dimension of fully connected layer\n",
    "        dim_out     :  the output_ dimension of fully connected layer\n",
    "        \n",
    "    returns:\n",
    "        Nothing \n",
    "    \"\"\"\n",
    "    \n",
    "    def __init__(self,dim_in, dim_out):\n",
    "        self.input_ = dim_in\n",
    "        self.output_ = dim_out          \n",
    "    # TODO: The linear is really wierd thing... all we get here is already in the upper class. we may omit this somehow\n",
    "\n",
    "        \n",
    "def Activation(code,input_):\n",
    "    \"\"\"\n",
    "    A class that specify the needed activation with respect to the following code conversion\n",
    "        0: Relu(x)\n",
    "        1: Tanh(x)\n",
    "        2: Sigmoid(x)\n",
    "    \n",
    "    This class works as functional package of pytorch\n",
    "    \n",
    "    input_s:\n",
    "        code        :  the code for each activation (0,1,2)\n",
    "        input__tensor:  the input_ tensor\n",
    "        \n",
    "    returns:\n",
    "        result      :  the output_ of requested activation function with the same shape as input_ tensor\n",
    "    \"\"\"\n",
    "    result = Tensor(input_.shape)\n",
    "    # Relu\n",
    "    if code ==0:\n",
    "        result = input_ - (input_<0).float()*input_\n",
    "    # Tanh\n",
    "    elif code ==1:\n",
    "        result = torch.tanh(input_)\n",
    "    # Sig\n",
    "    elif code ==2:\n",
    "        result = 1.0/(1 + torch.exp(-input_))\n",
    "    # linear\n",
    "    elif code ==3:\n",
    "        result = input_\n",
    "    # error\n",
    "    else: raise ValueError('Unknown Code For Activation')\n",
    "        \n",
    "    return result \n",
    "\n",
    "\n",
    "def dActivation(code,input_):\n",
    "    \"\"\"\n",
    "    A class that specify the needed derivative of activation with the same encoding convenstion\n",
    "        0: dRelu(x)\n",
    "        1: dTanh(x)\n",
    "        2: dSigmoid(x)\n",
    "    \n",
    "    This class works as functional package of pytorch\n",
    "    \n",
    "    input_s:\n",
    "        code        :  the code for each activation (0,1,2)\n",
    "        input__tensor:  the input_ tensor\n",
    "        \n",
    "    returns:\n",
    "        result      :  the output_ of requested activation function with the same shape as input_ tensor\n",
    "    \"\"\"\n",
    "    result = Tensor.new(input_)\n",
    "    # dRelu\n",
    "    if code ==0:\n",
    "        result = Tensor(input_.shape).fill_(1.0) - (input_<=0).float()*Tensor(input_.shape).fill_(1.0)\n",
    "    # dTanh\n",
    "    elif code ==1:\n",
    "        result = 1-(torch.tanh(input_))**2\n",
    "    # dSig\n",
    "    elif code ==2:\n",
    "        result = Activation(code,input_)*(1-Activation(code,input_))\n",
    "    # linear\n",
    "    elif code ==3:\n",
    "        result = Tensor(input_.shape).fill_(1.0)\n",
    "    else: raise ValueError('Unknown Code For derivative of Activation')\n",
    "    \n",
    "    return result \n",
    "\n"
   ]
  },
  {
   "cell_type": "markdown",
   "metadata": {},
   "source": [
    "# Loss and SGD"
   ]
  },
  {
   "cell_type": "code",
   "execution_count": 21,
   "metadata": {},
   "outputs": [],
   "source": [
    "def loss(v, t):\n",
    "    l_ = torch.sum(torch.pow(v-t,2))/(len(v))\n",
    "    return l_\n",
    "\n",
    "def dloss(v,t):\n",
    "    return 2.*(v-t)\n"
   ]
  },
  {
   "cell_type": "markdown",
   "metadata": {},
   "source": [
    "# Network Class"
   ]
  },
  {
   "cell_type": "code",
   "execution_count": 22,
   "metadata": {},
   "outputs": [],
   "source": [
    "class Net:\n",
    "    \"\"\"\n",
    "    The network class. It has the following methods:\n",
    "        param      :  returns the parameter which is asked for. Not the data! The object... \n",
    "                        Data is accessible through object.data method)\n",
    "        make_arch  :  makes the architecture of the network by taking a sequential list of [fc1,act1,fc2,act2,...]\n",
    "    \"\"\"\n",
    "    \n",
    "    #TODO:\n",
    "    \n",
    "    \n",
    "    def __init__(self, seq,X,Y=None):\n",
    "        # the lists below keep the following objects: forward_par, backward_par for each single layer.\n",
    "        # Hence these list are as long as the nuber of layers +1 (for input).\n",
    "        self.forward_list  = [] # Stores forward pass parameters of each layer (s,x).   \n",
    "        self.backward_list = [] # Stores backward pass parameters of each layer (grads:dL/ds, dL/dx, dL/dW, dL/db)\n",
    "        \n",
    "        \n",
    "        # the lists below, are as long as number of layers. They store the following objects:layer_par, type of \n",
    "        # activation requested by user.  \n",
    "        self.act_list   = []    # stores the requested activation functions in codes. Elements are \"0\",\"1\" or \"2\"\n",
    "        self.param_list = []    # Stores parameters of each layer (W,b).                       \n",
    "    \n",
    "        self.n_layer = 0        # keeps the number of layers of network\n",
    "        self.N = len(X)         # nb of batch\n",
    "        \n",
    "        self.grad_list     = [] # Stores dL/dW and dL/db for all batch data at each layer\n",
    "        \n",
    "        # this method, builds the network and it is called automatically by constructing Net model.\n",
    "        self.make_arch(seq)     # makes the architecture based on the the list \"seq\"\n",
    "\n",
    "        \n",
    "\"\"\"    # a user-friendly-named method fo access w,b and s at each layer\n",
    "    def get_param_of_layer(self,layer):  \n",
    "        return self.param_list[layer]\n",
    "    \n",
    "    # a user-friendly-named method fo access grad w.r.t. w,b and s at each layer\n",
    "    def get_forward_par_of_layer(self,layer):\n",
    "        return self.forward_list[layer]\n",
    "    \n",
    "    # a user-friendly-named method fo access grad w.r.t. w,b and s at each layer\n",
    "    def get_grad_of_layer(self,layer):\n",
    "        return self.backward_list[layer]\n",
    "\"\"\"        \n",
    "    \n",
    "    def make_arch(self,seq):    # makeArch\n",
    "        \"\"\"\n",
    "        This function fills param_list and act_list and also, evaluates number of layers.\n",
    "        \n",
    "        input:\n",
    "            seq : a list that contains both activation and layers in a sequential manner\n",
    "                  Example: [Linear(3,5), 'relu', Linear(5,64), 'Sig', Linear(64,1), 'Tanh']\n",
    "        \"\"\"\n",
    "        \n",
    "        seq_len = len(seq)                  # number of layer *2 (because of the activations...)\n",
    "        self.n_layer = seq_len//2           # I just want to have it :)\n",
    "        \n",
    "        for layer in list(range(0,seq_len,2)):\n",
    "            \n",
    "            # seq[layer] is an instance of object \"Linear\". Here we get the in/out dim of the layer\n",
    "            dim_in, dim_out = seq[layer].input_ , seq[layer].output_ \n",
    "            \n",
    "            # making a new laye_par instance and adding it to the param_list\n",
    "            self.param_list.append (layer_par(dim_in, dim_out) ) \n",
    "            \n",
    "            # activation recognition : encode activations in \"act_list\"\n",
    "            if seq[layer+1]=='relu':\n",
    "                self.act_list.append(0)\n",
    "            elif seq[layer+1]=='tanh':\n",
    "                self.act_list.append(1)\n",
    "            elif seq[layer+1]=='sig':\n",
    "                self.act_list.append(2)\n",
    "            elif seq[layer+1]=='lin':\n",
    "                self.act_list.append(3)\n",
    "            else: raise ValueError('Unknown Activation')\n",
    "                \n",
    "    \n",
    "    \n",
    "    def forward(self,X): \n",
    "        \"\"\"\n",
    "        This method evaluates the forward pass and returns the values. This function is written such that it take a\n",
    "        batch input and returns the forward pass of the batch.\n",
    "        \n",
    "        input: \n",
    "            X    :   a tensor of size(B, d_in) \n",
    "            \n",
    "        returns:\n",
    "            s    :   a tensor of size(B, d_out) \n",
    "            x    :   a tensor of size(B, d_out) \n",
    "        \n",
    "        ------------ single data ------------\n",
    "        s = Wx + b                            x: column vector\n",
    "        x = Activation(s)       \n",
    "        \n",
    "        ------------ batch data ------------\n",
    "        s = x W_{transpose} + b               x: a matrix, each row is a sigle data\n",
    "        x = Activation (s)\n",
    "        \"\"\"\n",
    "        \n",
    "        x=X\n",
    "        for layer, prm in enumerate(self.param_list):   # prm = param_list[layer]  \n",
    "            s = (x.mm(prm.w.t()) + prm.b.t())           # written consistant for batch :  s = (Wx+b).t()  (N,d_out) \n",
    "            x = Activation(self.act_list[layer], s)     # size = (N,d_out)       \n",
    "        return x,s\n",
    "    \n",
    "    \n",
    "    def backward (self,X,Y):\n",
    "        \"\"\"\n",
    "        This method fill both forward_list and backward_list by constructing instances of forward_par and backward_par.\n",
    "        The object forward_par, contains (s,x), and the object backward_par contains the gradients with respect to para-\n",
    "        meteres of each layer.\n",
    "        \n",
    "        These object contain the gradients or parameters of to all batch data. The sum of all parameters determines the\n",
    "        total gradient of the batch. This summation is stored in the grad_list.\n",
    "        \n",
    "        input:\n",
    "            X        :   training set of size (B,d)\n",
    "            Y        :   target set of size (B,d)\n",
    "            \n",
    "        returns:\n",
    "            grad_list:   a list of objects wich contain total gradient of the loss function wrt W and b for batch data\n",
    "        \"\"\"\n",
    "        \n",
    "        \n",
    "        \n",
    "        #Hint:\n",
    "        # for backward_list and forward_list, the index starts form 0 to L (inclusive). The index 0 indicates the input.\n",
    "        \n",
    "        \n",
    "        # a list of length = (number of layers + 1). It is filled by numbers for the moment but it will be filled\n",
    "        # with backward_par objects later.\n",
    "        self.backward_list = list(range(self.n_layer+1))     # will be filled with backward_par objects later\n",
    "        \n",
    "        # add X0 to the forward list\n",
    "        self.forward_list.append( forward_par(self.param_list[0].dim_in, self.N) )    # Note that dim = dim_in for inputs\n",
    "        self.forward_list[0].x =X    # x0\n",
    "        #self.forward_list[0].s =X    # s0 is set to be x0\n",
    "        \n",
    "        \n",
    "        # this computes forward\n",
    "        # TODO: can we use the forward method here?\n",
    "        x=X\n",
    "        for layer, prm in enumerate(self.param_list):       # parameter = param[layer]  \n",
    "            self.forward_list.append( forward_par(prm.dim_out, self.N) )\n",
    "\n",
    "            s = (x.mm(prm.w.t()) + prm.b.t())           # written consistant for batch :  s = (Wx+b).t()\n",
    "            self.forward_list[layer+1].s = s             \n",
    "            x = Activation(self.act_list[layer], s)    \n",
    "            self.forward_list[layer+1].x = x\n",
    "            \n",
    "            \n",
    "            \n",
    "        # this computes backward\n",
    "        for layer in list(range (self.n_layer,0,-1)):\n",
    "            #print ('layer is {}'.format(layer))\n",
    "            # this guy makes a backward_par (dim_in,dim_out, N) at component \"layer\" of backward_list\n",
    "            self.backward_list[layer] = backward_par( self.param_list[layer-1].dim_in , self.param_list[layer-1].dim_out ,self.N)\n",
    "            \n",
    "            #dl/dx \n",
    "            # WARNING\n",
    "            if layer == self.n_layer:\n",
    "                self.backward_list[layer].dx = dloss(x,Y) \n",
    "            else:\n",
    "                #self.backward_list[layer].dx = self.param_list[layer].w.t().mm(self.backward_list[layer+1].ds)\n",
    "                self.backward_list[layer].dx = self.backward_list[layer+1].ds.mm(self.param_list[layer].w)\n",
    "                \n",
    "                \n",
    "            #dl/ds\n",
    "            #print (self.backward_list[layer].dx.shape)\n",
    "            #print (dActivation(self.act_list[layer-1], self.forward_list[layer].s ).shape)\n",
    "            self.backward_list[layer].ds = self.backward_list[layer].dx * dActivation(self.act_list[layer-1], self.forward_list[layer].s ) \n",
    "            \n",
    "            #dl/dw\n",
    "            #print( self.forward_list[layer].x.shape)\n",
    "            # x:  X of layer (l-1) -> x.size = N*d_in\n",
    "            # ds: dL/ds of layer (l) -> ds.size = N*d_out\n",
    "            \n",
    "            arash=self.backward_list[layer].ds.unsqueeze(1)\n",
    "            ehsan=self.forward_list[layer-1].x.unsqueeze(2)\n",
    "            \"\"\"\n",
    "            print(arash.shape)\n",
    "            print(ehsan.shape)\n",
    "            \"\"\"\n",
    "            #print (self.backward_list[layer].ds.shape)\n",
    "            self.backward_list[layer].dw = arash*ehsan\n",
    "            #print ('said obi-wan kenobi')\n",
    "            \n",
    "            #dl/db\n",
    "            self.backward_list[layer].db = self.backward_list[layer].ds\n",
    "            \n",
    "            #print(self.backward_list[layer].db)\n",
    "            \"\"\"\n",
    "            print (self.backward_list[layer].ds.shape)\n",
    "            print (self.backward_list[layer].dw.shape)\n",
    "            print (self.backward_list[layer].db.shape)\n",
    "            print (self.backward_list[layer].dx.shape)\n",
    "            print ('hello there')\n",
    "\"\"\"\n",
    "        # summing all batch grads\n",
    "        for layer in list (range(1,self.n_layer+1)):\n",
    "            #print (layer,self.n_layer)\n",
    "            \n",
    "            #print (self.backward_list[layer])\n",
    "            #print (self.backward_list[layer].dw)\n",
    "            self.grad_list.append(layer_par(self.param_list[layer-1].dim_in,self.param_list[layer-1].dim_out) )\n",
    "            \n",
    "            self.grad_list[layer-1].b = self.backward_list[layer].db.sum(0)/self.N   # watchout! these are grad!\n",
    "            self.grad_list[layer-1].w = self.backward_list[layer].dw.sum(0)/self.N   # watchout! these are grad!\n",
    "            \n",
    "        return self.grad_list\n"
   ]
  },
  {
   "cell_type": "markdown",
   "metadata": {},
   "source": [
    "# Draft, tests, and other stuff"
   ]
  },
  {
   "cell_type": "code",
   "execution_count": 23,
   "metadata": {},
   "outputs": [],
   "source": [
    "x = Tensor(7).normal_()\n",
    "X = torch.cat((x.view(1,-1),x.view(1,-1)*3,x.view(1,-1)*x.view(1,-1)),0)\n",
    "Y= Tensor(3,10).normal_();"
   ]
  },
  {
   "cell_type": "code",
   "execution_count": 24,
   "metadata": {},
   "outputs": [],
   "source": [
    "seq = [Linear(7,2),'lin',Linear(2,5),'relu',Linear(5,10),'lin']    \n",
    "model = Net(seq,X,Y)"
   ]
  },
  {
   "cell_type": "code",
   "execution_count": 25,
   "metadata": {},
   "outputs": [],
   "source": [
    "win = model.backward(X,Y)"
   ]
  },
  {
   "cell_type": "code",
   "execution_count": 26,
   "metadata": {},
   "outputs": [
    {
     "data": {
      "text/plain": [
       "\n",
       "\n",
       "Columns 0 to 7 \n",
       "   0.0000    0.0000    0.0000    0.0000    0.0000    0.0000    0.0000    0.0000\n",
       "  -3.0228   -4.7768    3.9350    1.7497    1.4186   -9.8006    7.0396    4.2791\n",
       "  29.4164 -276.8149  134.8746  133.1670 -105.5648   76.2135   22.0834   46.5936\n",
       "   7.3171  -68.8558   33.5491   33.1244  -26.2585   18.9576    5.4931   11.5898\n",
       "   0.0000    0.0000    0.0000    0.0000    0.0000    0.0000    0.0000    0.0000\n",
       "\n",
       "Columns 8 to 9 \n",
       "   0.0000    0.0000\n",
       "  -0.3615    3.8822\n",
       " -56.9019  -34.9590\n",
       " -14.1540   -8.6958\n",
       "   0.0000    0.0000\n",
       "[torch.FloatTensor of size 5x10]"
      ]
     },
     "execution_count": 26,
     "metadata": {},
     "output_type": "execute_result"
    }
   ],
   "source": [
    "win[2].w"
   ]
  },
  {
   "cell_type": "code",
   "execution_count": 27,
   "metadata": {},
   "outputs": [
    {
     "data": {
      "text/plain": [
       "(\n",
       " \n",
       " Columns 0 to 7 \n",
       "   1.2617  -7.9088   3.5400   3.7850  -3.1567   2.2944   0.9672   1.4872\n",
       "   3.7850 -23.7265  10.6200  11.3549  -9.4701   6.8831   2.9017   4.4615\n",
       "  -2.0595  -1.7307   3.2273   1.7855   0.6365  -4.1770   3.9232   2.7162\n",
       " \n",
       " Columns 8 to 9 \n",
       "  -0.8759  -0.7689\n",
       "  -2.6278  -2.3066\n",
       "   0.6274   3.0571\n",
       " [torch.FloatTensor of size 3x10], \n",
       " \n",
       " Columns 0 to 7 \n",
       "   1.2617  -7.9088   3.5400   3.7850  -3.1567   2.2944   0.9672   1.4872\n",
       "   3.7850 -23.7265  10.6200  11.3549  -9.4701   6.8831   2.9017   4.4615\n",
       "  -2.0595  -1.7307   3.2273   1.7855   0.6365  -4.1770   3.9232   2.7162\n",
       " \n",
       " Columns 8 to 9 \n",
       "  -0.8759  -0.7689\n",
       "  -2.6278  -2.3066\n",
       "   0.6274   3.0571\n",
       " [torch.FloatTensor of size 3x10])"
      ]
     },
     "execution_count": 27,
     "metadata": {},
     "output_type": "execute_result"
    }
   ],
   "source": [
    "model.forward(X)"
   ]
  },
  {
   "cell_type": "code",
   "execution_count": 28,
   "metadata": {},
   "outputs": [],
   "source": [
    "b= Tensor(2,4).normal_()"
   ]
  },
  {
   "cell_type": "code",
   "execution_count": 29,
   "metadata": {},
   "outputs": [
    {
     "ename": "NameError",
     "evalue": "name 'a' is not defined",
     "output_type": "error",
     "traceback": [
      "\u001b[1;31m---------------------------------------------------------------------------\u001b[0m",
      "\u001b[1;31mNameError\u001b[0m                                 Traceback (most recent call last)",
      "\u001b[1;32m<ipython-input-29-8ce765dcfa30>\u001b[0m in \u001b[0;36m<module>\u001b[1;34m()\u001b[0m\n\u001b[1;32m----> 1\u001b[1;33m \u001b[0ma\u001b[0m\u001b[1;33m*\u001b[0m\u001b[0mb\u001b[0m\u001b[1;33m\u001b[0m\u001b[0m\n\u001b[0m",
      "\u001b[1;31mNameError\u001b[0m: name 'a' is not defined"
     ]
    }
   ],
   "source": [
    "a*b"
   ]
  },
  {
   "cell_type": "code",
   "execution_count": 30,
   "metadata": {},
   "outputs": [
    {
     "data": {
      "text/plain": [
       "range(1, 5)"
      ]
     },
     "execution_count": 30,
     "metadata": {},
     "output_type": "execute_result"
    }
   ],
   "source": [
    "range(1,5)"
   ]
  },
  {
   "cell_type": "code",
   "execution_count": 31,
   "metadata": {},
   "outputs": [],
   "source": [
    "a= Tensor (3,1,5).normal_()\n",
    "b= Tensor (3,2,1).normal_()"
   ]
  },
  {
   "cell_type": "code",
   "execution_count": 32,
   "metadata": {},
   "outputs": [
    {
     "data": {
      "text/plain": [
       "\n",
       "(0 ,.,.) = \n",
       "  0.1278  0.0670  0.7209 -0.0858  0.6084\n",
       "  0.2392  0.1253  1.3485 -0.1605  1.1381\n",
       "\n",
       "(1 ,.,.) = \n",
       " -0.8837 -1.4711  1.2978  0.2068  0.1009\n",
       "  0.4539  0.7555 -0.6665 -0.1062 -0.0518\n",
       "\n",
       "(2 ,.,.) = \n",
       " -0.0895  0.0962  0.0461  0.1517 -0.3767\n",
       " -0.1185  0.1274  0.0610  0.2010 -0.4990\n",
       "[torch.FloatTensor of size 3x2x5]"
      ]
     },
     "execution_count": 32,
     "metadata": {},
     "output_type": "execute_result"
    }
   ],
   "source": [
    "a*b"
   ]
  },
  {
   "cell_type": "code",
   "execution_count": 33,
   "metadata": {},
   "outputs": [
    {
     "data": {
      "text/plain": [
       "\n",
       "(0 ,.,.) = \n",
       " -0.4102 -0.2148 -2.3130  0.2753 -1.9521\n",
       "\n",
       "(1 ,.,.) = \n",
       "  1.0080  1.6779 -1.4803 -0.2359 -0.1151\n",
       "\n",
       "(2 ,.,.) = \n",
       " -0.3803  0.4088  0.1957  0.6448 -1.6010\n",
       "[torch.FloatTensor of size 3x1x5]"
      ]
     },
     "execution_count": 33,
     "metadata": {},
     "output_type": "execute_result"
    }
   ],
   "source": [
    "a"
   ]
  },
  {
   "cell_type": "code",
   "execution_count": 34,
   "metadata": {},
   "outputs": [
    {
     "data": {
      "text/plain": [
       "\n",
       "(0 ,.,.) = \n",
       " -0.3117\n",
       " -0.5830\n",
       "\n",
       "(1 ,.,.) = \n",
       " -0.8767\n",
       "  0.4503\n",
       "\n",
       "(2 ,.,.) = \n",
       "  0.2353\n",
       "  0.3117\n",
       "[torch.FloatTensor of size 3x2x1]"
      ]
     },
     "execution_count": 34,
     "metadata": {},
     "output_type": "execute_result"
    }
   ],
   "source": [
    "b"
   ]
  },
  {
   "cell_type": "code",
   "execution_count": 35,
   "metadata": {},
   "outputs": [
    {
     "data": {
      "text/plain": [
       "[range(0, 10)]"
      ]
     },
     "execution_count": 35,
     "metadata": {},
     "output_type": "execute_result"
    }
   ],
   "source": [
    "[range(10)]"
   ]
  },
  {
   "cell_type": "code",
   "execution_count": 36,
   "metadata": {},
   "outputs": [
    {
     "data": {
      "text/plain": [
       "[0, 1, 2, 3, 4, 5, 6, 7, 8, 9]"
      ]
     },
     "execution_count": 36,
     "metadata": {},
     "output_type": "execute_result"
    }
   ],
   "source": [
    "list(range(10))"
   ]
  },
  {
   "cell_type": "code",
   "execution_count": 37,
   "metadata": {},
   "outputs": [
    {
     "ename": "SyntaxError",
     "evalue": "invalid syntax (<ipython-input-37-9778031892f4>, line 1)",
     "output_type": "error",
     "traceback": [
      "\u001b[1;36m  File \u001b[1;32m\"<ipython-input-37-9778031892f4>\"\u001b[1;36m, line \u001b[1;32m1\u001b[0m\n\u001b[1;33m    [1:10]\u001b[0m\n\u001b[1;37m      ^\u001b[0m\n\u001b[1;31mSyntaxError\u001b[0m\u001b[1;31m:\u001b[0m invalid syntax\n"
     ]
    }
   ],
   "source": [
    "[1:10]"
   ]
  },
  {
   "cell_type": "code",
   "execution_count": null,
   "metadata": {},
   "outputs": [],
   "source": []
  },
  {
   "cell_type": "code",
   "execution_count": null,
   "metadata": {},
   "outputs": [],
   "source": [
    "\n"
   ]
  }
 ],
 "metadata": {
  "kernelspec": {
   "display_name": "Python 3",
   "language": "python",
   "name": "python3"
  },
  "language_info": {
   "codemirror_mode": {
    "name": "ipython",
    "version": 3
   },
   "file_extension": ".py",
   "mimetype": "text/x-python",
   "name": "python",
   "nbconvert_exporter": "python",
   "pygments_lexer": "ipython3",
   "version": "3.6.4"
  }
 },
 "nbformat": 4,
 "nbformat_minor": 2
}
