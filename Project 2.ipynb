{
 "cells": [
  {
   "cell_type": "code",
   "execution_count": null,
   "metadata": {},
   "outputs": [],
   "source": [
    "def Activation (intput,act):\n",
    "    def __init__(self,input,act):\n",
    "        self.result = Tensor.new(input)\n",
    "        self.kind   = act   # Relu, Sig, Relu' , sig'\n",
    "        \n",
    "    def __getitem__(self, index):\n",
    "        return self.train_aug[index], self.train_target[index]\n",
    "    \n",
    "    def __len__(self):\n",
    "        return len(self.train_target)\n",
    "    \n",
    "    def Relu (input):\n",
    "        result = input - (input<0);\n",
    "    \n",
    "    def Sigmoid (input):\n",
    "        result = 1.0/(1 + torch.exp(-input))\n",
    "        \n",
    "    def dRefu (input):\n",
    "        result = 1-(input<0)\n",
    "        \n",
    "    def dSigmoid (input):\n",
    "        result = 1-torch.pow(torch.tanh(input),2)\n",
    "        \n",
    "    def Tanh (input):\n",
    "        result = torch.tanh(input)\n",
    "        \n",
    "    def dTanh(input):\n",
    "        result = 1-torch.tanh(x)*torch.tanh(x)\n",
    "    \n",
    "    return result"
   ]
  }
 ],
 "metadata": {
  "kernelspec": {
   "display_name": "Python 2",
   "language": "python",
   "name": "python2"
  },
  "language_info": {
   "codemirror_mode": {
    "name": "ipython",
    "version": 2
   },
   "file_extension": ".py",
   "mimetype": "text/x-python",
   "name": "python",
   "nbconvert_exporter": "python",
   "pygments_lexer": "ipython2",
   "version": "2.7.14"
  }
 },
 "nbformat": 4,
 "nbformat_minor": 2
}
