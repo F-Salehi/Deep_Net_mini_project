{
 "cells": [
  {
   "cell_type": "code",
   "execution_count": 57,
   "metadata": {
    "collapsed": true
   },
   "outputs": [],
   "source": [
    "import dlc_bci as bci\n",
    "import torch\n",
    "from torch.autograd import Variable\n",
    "from random import randint\n",
    "from torch import nn\n",
    "from torch import optim\n",
    "from torch import Tensor\n",
    "from torch.nn import functional as F\n",
    "from torch.utils.data import DataLoader\n",
    "import numpy as np\n",
    "import matplotlib.pyplot as plt\n",
    "%matplotlib inline"
   ]
  },
  {
   "cell_type": "markdown",
   "metadata": {},
   "source": [
    "## Load the data"
   ]
  },
  {
   "cell_type": "code",
   "execution_count": 80,
   "metadata": {
    "collapsed": false
   },
   "outputs": [
    {
     "name": "stdout",
     "output_type": "stream",
     "text": [
      "train_input size: torch.Size([316, 28, 1, 50])\n",
      "train_target size: torch.Size([316])\n",
      "test_input size: torch.Size([100, 28, 1, 50])\n",
      "test_target size: torch.Size([100])\n"
     ]
    }
   ],
   "source": [
    "train_input , train_target = bci.load ( root = \"./ data_bci\")\n",
    "test_input , test_target = bci.load ( root = \"./ data_bci \" , train = False )\n",
    "\n",
    "train_target = Variable(train_target)\n",
    "train_input = Variable(train_input.unsqueeze(dim=2))\n",
    "test_input = Variable(test_input.unsqueeze(dim=2))\n",
    "test_target = Variable(test_target)\n",
    "\n",
    "mu, std = train_input.data.mean(), train_input.data.std() \n",
    "train_input.data.sub_(mu).div_(std)\n",
    "test_input.data.sub_(mu).div_(std)\n",
    "\n",
    "\n",
    "print('train_input size:' , train_input.size())\n",
    "print ( 'train_target size:' , train_target.size())\n",
    "print ('test_input size:' , test_input.size())\n",
    "print ('test_target size:' , test_target.size())"
   ]
  },
  {
   "cell_type": "code",
   "execution_count": 81,
   "metadata": {
    "collapsed": true
   },
   "outputs": [],
   "source": [
    "# The function computes the accuracy\n",
    "def accuracy(output,target):\n",
    "    return (output.float()==target.float()).float().sum()/len(output)"
   ]
  },
  {
   "cell_type": "markdown",
   "metadata": {},
   "source": [
    "## Convolutional neural network"
   ]
  },
  {
   "cell_type": "code",
   "execution_count": 91,
   "metadata": {
    "collapsed": true
   },
   "outputs": [],
   "source": [
    "\n",
    "class Net(nn.Module):\n",
    "    def __init__(self):\n",
    "        super(Net,self).__init__()\n",
    "        self.conv1 = nn.Conv2d (28, 32, kernel_size = (1,5))    # after conv: 20*32*1*46\n",
    "        self.avg_pool1 = nn.AvgPool2d(kernel_size = (1,4))      # size -> 1/4 *size\n",
    "        self.conv2 = nn.Conv2d (32 , 64, kernel_size = (1,5))   \n",
    "        self.fc1 = nn.Linear (448 , 50)                         # size : 64 ->32 => 448/2\n",
    "        self.dr = nn.Dropout(p=0.8)\n",
    "        self.fc2 = nn.Linear (50 , 2)\n",
    "        \n",
    "    def forward (self , x):\n",
    "        x = self.conv1(x)\n",
    "        #print ('after first conv',x.size())\n",
    "        x = F.relu(self.avg_pool1(x))\n",
    "        x = F.relu(self.conv2(x))\n",
    "        x = x.view (-1, 448)\n",
    "        x = self.dr(x)\n",
    "        x = F.relu ( self.fc1 (x))\n",
    "        x = self.dr(x)\n",
    "        x = self.fc2(x)\n",
    "                   #x = F.relu(F.max_pool2d(self.conv1(x), kernel_size = 3, stride =3) )\n",
    "        #x = F.relu (F.max_pool2d ( self.conv2(x), kernel_size =2, stride =2) )\n",
    "        return x\n"
   ]
  },
  {
   "cell_type": "code",
   "execution_count": 90,
   "metadata": {
    "collapsed": false
   },
   "outputs": [
    {
     "name": "stdout",
     "output_type": "stream",
     "text": [
      "0 loss train: 0.02089495025575161 loss test: 1.3512645959854126  accuracy test: 0.7799999713897705\n"
     ]
    }
   ],
   "source": [
    "### train the model\n",
    "epoch = 10\n",
    "batch_size = 20\n",
    "criterion = nn.CrossEntropyLoss()\n",
    "optimizer = optim.SGD(net.parameters(),lr = 0.001,momentum = 0.5)\n",
    "\n",
    "\n",
    "\n",
    "i = 0\n",
    "for e in range(epoch):\n",
    "    for b in range(0,train_input.size(0),batch_size):\n",
    "        input_ = train_input.narrow(0,b,min(batch_size,train_input.size(0)-b))\n",
    "        target = train_target.narrow(0,b,min(batch_size,train_input.size(0)-b))\n",
    "        output = net(input_).view(min(batch_size,train_input.size(0)-b),2)\n",
    "        loss = criterion(output,target)\n",
    "        net.zero_grad()\n",
    "        loss.backward()\n",
    "        optimizer.step()\n",
    "    if e%100 == 0: # print the loss every 10 epochs\n",
    "        output = net(test_input).view(-1,2)\n",
    "        a,predicted_class = output.max(dim=1)\n",
    "        output_train = net(train_input).view(-1,2)\n",
    "        a,predicted_class_train = output.max(dim=1)\n",
    "        \n",
    "        #predicted_class = 1*(predicted_class.float().mean(dim=1) > 0.5)\n",
    "        print(e//100,'loss train:',criterion(output_train,train_target).data[0],'loss test:',criterion(output,test_target).data[0],' accuracy test:',accuracy(predicted_class,test_target).data[0])"
   ]
  },
  {
   "cell_type": "markdown",
   "metadata": {},
   "source": [
    "## Data Augmentaiotn: Averaging two datapoints in the same class"
   ]
  },
  {
   "cell_type": "code",
   "execution_count": 73,
   "metadata": {
    "collapsed": false,
    "scrolled": false
   },
   "outputs": [],
   "source": [
    "class0 = train_input[(train_target == 0).nonzero(),]\n",
    "class1 = train_input[(train_target == 1).nonzero(),]\n",
    "class0.squeeze_(dim=1)\n",
    "class1.squeeze_(dim=1)\n",
    "N = class0.shape[0]\n",
    "train_input_aug0 = [(class0[i]+class0[j])/2 for i in range(N) for j in range(i,N)]\n",
    "train_input_aug0 = torch.stack(train_input_aug0)\n",
    "train_out_aug0 = Variable(Tensor(train_input_aug0.shape[0]).fill_(0))\n",
    "N = class1.shape[0]\n",
    "train_input_aug1 = [(class1[i]+class1[j])/2 for i in range(N) for j in range(i,N)]\n",
    "train_input_aug1 = torch.stack(train_input_aug1)\n",
    "train_out_aug1 = Variable(Tensor(train_input_aug1.shape[0]).fill_(1))\n",
    "\n",
    "###\n",
    "train_aug = torch.cat((train_input_aug0,train_input_aug1))\n",
    "train_target_aug = torch.cat((train_out_aug0,train_out_aug1)).data.long()\n",
    "\n",
    "mu, std = train_aug.data.mean(), train_aug.data.std() ;\n",
    "train_aug.data.sub_(mu).div_(std);\n",
    "test_input.data.sub_(mu).div_(std);"
   ]
  },
  {
   "cell_type": "code",
   "execution_count": 74,
   "metadata": {
    "collapsed": true
   },
   "outputs": [],
   "source": [
    "class Dataset:\n",
    "    def __init__(self,train_aug,train_target):\n",
    "        self.train_aug = train_aug.data\n",
    "        self.train_target = train_target\n",
    "    def __getitem__(self, index):\n",
    "        return self.train_aug[index], self.train_target[index]\n",
    "    def __len__(self):\n",
    "        return len(self.train_target)"
   ]
  },
  {
   "cell_type": "code",
   "execution_count": 75,
   "metadata": {
    "collapsed": false
   },
   "outputs": [],
   "source": [
    "data = Dataset(train_aug,train_target_aug)\n",
    "dataset_loader = torch.utils.data.DataLoader(data,\n",
    "                                             batch_size = 40, shuffle=True,\n",
    "                                             num_workers=4)"
   ]
  },
  {
   "cell_type": "code",
   "execution_count": 100,
   "metadata": {
    "collapsed": false
   },
   "outputs": [],
   "source": [
    "\n",
    "net = Net()"
   ]
  },
  {
   "cell_type": "code",
   "execution_count": 106,
   "metadata": {
    "collapsed": false
   },
   "outputs": [
    {
     "name": "stdout",
     "output_type": "stream",
     "text": [
      "0 loss train: 0.6952154636383057 loss test: 0.6886308193206787  accuracy test: 0.5699999928474426\n",
      "1 loss train: 0.6738304495811462 loss test: 0.6873528957366943  accuracy test: 0.6800000071525574\n",
      "2 loss train: 0.5158264636993408 loss test: 0.7171140313148499  accuracy test: 0.7400000095367432\n",
      "3 loss train: 0.42435938119888306 loss test: 0.8130353689193726  accuracy test: 0.7200000286102295\n",
      "4 loss train: 0.677112340927124 loss test: 1.4532579183578491  accuracy test: 0.6299999952316284\n",
      "5 loss train: 0.5639277100563049 loss test: 0.8481715321540833  accuracy test: 0.7200000286102295\n",
      "6 loss train: 0.2967013418674469 loss test: 0.8411137461662292  accuracy test: 0.7699999809265137\n",
      "7 loss train: 0.34494131803512573 loss test: 0.7394730448722839  accuracy test: 0.7900000214576721\n",
      "8 loss train: 0.3075798749923706 loss test: 1.0522758960723877  accuracy test: 0.7799999713897705\n",
      "9 loss train: 0.27261701226234436 loss test: 0.8978402614593506  accuracy test: 0.7099999785423279\n"
     ]
    }
   ],
   "source": [
    "\n",
    "### train the model\n",
    "epoch = 10\n",
    "criterion = nn.CrossEntropyLoss()\n",
    "optimizer = optim.SGD(net.parameters(),lr = 0.01,momentum = 0.5)\n",
    "i = 0\n",
    "for e in range(epoch):\n",
    "    for input_, target_ in dataset_loader:\n",
    "        input_ = Variable(input_)\n",
    "        target_ = Variable(target_)\n",
    "        output = net(input_).view(-1,2)\n",
    "        loss = criterion(output,target_) \n",
    "        net.zero_grad()\n",
    "        loss.backward()\n",
    "        optimizer.step()\n",
    "    if e%1 == 0: # print the loss every 10 epochs\n",
    "        output = net(test_input).view(-1,2)\n",
    "        a,predicted_class = output.max(dim=1)\n",
    "        output_train = net(train_input).view(-1,2)\n",
    "        a,predicted_class_train = output.max(dim=1)\n",
    "        #predicted_class = 1*(predicted_class.float().mean(dim=1) > 0.5)\n",
    "        print(e//1,'loss train:',criterion(output_train,train_target).data[0],'loss test:',criterion(output,test_target).data[0],' accuracy test:',accuracy(predicted_class,test_target).data[0])"
   ]
  },
  {
   "cell_type": "markdown",
   "metadata": {},
   "source": [
    "## Adding L1 reguralizer"
   ]
  },
  {
   "cell_type": "code",
   "execution_count": 115,
   "metadata": {
    "collapsed": true
   },
   "outputs": [],
   "source": [
    "def l1_reguralizer(paramters):\n",
    "    loss = 0\n",
    "    for p in paramters:\n",
    "        loss += torch.abs(p).mean()\n",
    "    return loss"
   ]
  },
  {
   "cell_type": "code",
   "execution_count": 149,
   "metadata": {
    "collapsed": true
   },
   "outputs": [],
   "source": [
    "net = Net()"
   ]
  },
  {
   "cell_type": "code",
   "execution_count": 150,
   "metadata": {
    "collapsed": false,
    "scrolled": true
   },
   "outputs": [
    {
     "name": "stdout",
     "output_type": "stream",
     "text": [
      "0 loss train: 0.69 accuracy train: 0.53 loss test: 0.71  accuracy test: 0.53\n",
      "1 loss train: 0.67 accuracy train: 0.61 loss test: 0.86  accuracy test: 0.55\n",
      "2 loss train: 0.6 accuracy train: 0.7 loss test: 0.76  accuracy test: 0.64\n",
      "3 loss train: 0.45 accuracy train: 0.78 loss test: 0.56  accuracy test: 0.78\n",
      "4 loss train: 0.52 accuracy train: 0.78 loss test: 1.02  accuracy test: 0.69\n",
      "5 loss train: 0.39 accuracy train: 0.82 loss test: 0.74  accuracy test: 0.72\n",
      "6 loss train: 0.32 accuracy train: 0.85 loss test: 0.91  accuracy test: 0.75\n",
      "7 loss train: 0.79 accuracy train: 0.74 loss test: 0.89  accuracy test: 0.74\n",
      "8 loss train: 0.37 accuracy train: 0.9 loss test: 0.85  accuracy test: 0.77\n",
      "9 loss train: 0.33 accuracy train: 0.88 loss test: 0.81  accuracy test: 0.78\n",
      "10 loss train: 0.68 accuracy train: 0.79 loss test: 1.6  accuracy test: 0.66\n",
      "11 loss train: 0.21 accuracy train: 0.9 loss test: 0.9  accuracy test: 0.76\n",
      "12 loss train: 0.25 accuracy train: 0.9 loss test: 0.79  accuracy test: 0.81\n",
      "13 loss train: 0.2 accuracy train: 0.9 loss test: 0.62  accuracy test: 0.82\n",
      "14 loss train: 0.27 accuracy train: 0.88 loss test: 1.11  accuracy test: 0.77\n",
      "15 loss train: 0.27 accuracy train: 0.9 loss test: 0.83  accuracy test: 0.8\n",
      "16 loss train: 0.34 accuracy train: 0.88 loss test: 1.44  accuracy test: 0.71\n",
      "17 loss train: 0.2 accuracy train: 0.92 loss test: 1.11  accuracy test: 0.75\n",
      "18 loss train: 0.19 accuracy train: 0.93 loss test: 1.42  accuracy test: 0.74\n",
      "19 loss train: 1.25 accuracy train: 0.75 loss test: 1.99  accuracy test: 0.65\n",
      "20 loss train: 0.18 accuracy train: 0.92 loss test: 1.58  accuracy test: 0.74\n",
      "21 loss train: 0.17 accuracy train: 0.93 loss test: 0.93  accuracy test: 0.78\n",
      "22 loss train: 0.1 accuracy train: 0.96 loss test: 0.58  accuracy test: 0.84\n",
      "23 loss train: 0.25 accuracy train: 0.92 loss test: 1.24  accuracy test: 0.76\n",
      "24 loss train: 0.17 accuracy train: 0.95 loss test: 1.28  accuracy test: 0.74\n",
      "25 loss train: 0.22 accuracy train: 0.92 loss test: 1.44  accuracy test: 0.78\n",
      "26 loss train: 0.21 accuracy train: 0.93 loss test: 0.87  accuracy test: 0.79\n",
      "27 loss train: 0.1 accuracy train: 0.97 loss test: 1.12  accuracy test: 0.78\n",
      "28 loss train: 0.15 accuracy train: 0.95 loss test: 1.23  accuracy test: 0.76\n",
      "29 loss train: 0.18 accuracy train: 0.94 loss test: 1.35  accuracy test: 0.75\n",
      "30 loss train: 0.1 accuracy train: 0.96 loss test: 1.33  accuracy test: 0.81\n",
      "31 loss train: 0.08 accuracy train: 0.96 loss test: 0.85  accuracy test: 0.8\n",
      "32 loss train: 0.17 accuracy train: 0.95 loss test: 1.48  accuracy test: 0.76\n",
      "33 loss train: 0.12 accuracy train: 0.97 loss test: 1.56  accuracy test: 0.73\n",
      "34 loss train: 0.07 accuracy train: 0.99 loss test: 1.1  accuracy test: 0.84\n",
      "35 loss train: 0.1 accuracy train: 0.97 loss test: 1.32  accuracy test: 0.79\n",
      "36 loss train: 0.07 accuracy train: 0.97 loss test: 1.4  accuracy test: 0.79\n",
      "37 loss train: 0.07 accuracy train: 0.97 loss test: 1.35  accuracy test: 0.76\n",
      "38 loss train: 0.1 accuracy train: 0.96 loss test: 1.45  accuracy test: 0.82\n",
      "39 loss train: 0.12 accuracy train: 0.97 loss test: 1.19  accuracy test: 0.82\n",
      "40 loss train: 0.06 accuracy train: 0.97 loss test: 1.53  accuracy test: 0.8\n",
      "41 loss train: 0.16 accuracy train: 0.95 loss test: 1.25  accuracy test: 0.75\n",
      "42 loss train: 0.07 accuracy train: 0.98 loss test: 1.37  accuracy test: 0.77\n",
      "43 loss train: 0.13 accuracy train: 0.95 loss test: 1.62  accuracy test: 0.76\n",
      "44 loss train: 0.08 accuracy train: 0.97 loss test: 1.63  accuracy test: 0.75\n",
      "45 loss train: 0.1 accuracy train: 0.95 loss test: 1.44  accuracy test: 0.82\n",
      "46 loss train: 0.14 accuracy train: 0.96 loss test: 1.26  accuracy test: 0.85\n",
      "47 loss train: 0.07 accuracy train: 0.97 loss test: 1.56  accuracy test: 0.83\n",
      "48 loss train: 0.07 accuracy train: 0.98 loss test: 1.24  accuracy test: 0.81\n",
      "49 loss train: 0.09 accuracy train: 0.97 loss test: 1.05  accuracy test: 0.83\n",
      "50 loss train: 0.08 accuracy train: 0.98 loss test: 1.47  accuracy test: 0.84\n",
      "51 loss train: 0.13 accuracy train: 0.96 loss test: 1.58  accuracy test: 0.78\n",
      "52 loss train: 0.06 accuracy train: 0.98 loss test: 1.06  accuracy test: 0.8\n",
      "53 loss train: 0.09 accuracy train: 0.97 loss test: 1.28  accuracy test: 0.82\n",
      "54 loss train: 0.1 accuracy train: 0.97 loss test: 1.33  accuracy test: 0.79\n",
      "55 loss train: 0.05 accuracy train: 0.97 loss test: 1.08  accuracy test: 0.82\n",
      "56 loss train: 0.06 accuracy train: 0.97 loss test: 1.25  accuracy test: 0.79\n",
      "57 loss train: 0.07 accuracy train: 0.98 loss test: 1.45  accuracy test: 0.75\n",
      "58 loss train: 0.08 accuracy train: 0.98 loss test: 1.15  accuracy test: 0.8\n",
      "59 loss train: 0.1 accuracy train: 0.98 loss test: 1.0  accuracy test: 0.81\n",
      "60 loss train: 0.05 accuracy train: 0.99 loss test: 1.35  accuracy test: 0.8\n",
      "61 loss train: 0.06 accuracy train: 0.98 loss test: 1.48  accuracy test: 0.81\n",
      "62 loss train: 0.06 accuracy train: 0.98 loss test: 1.76  accuracy test: 0.8\n",
      "63 loss train: 0.05 accuracy train: 0.98 loss test: 1.06  accuracy test: 0.85\n",
      "64 loss train: 0.04 accuracy train: 0.99 loss test: 0.99  accuracy test: 0.86\n",
      "65 loss train: 0.06 accuracy train: 0.97 loss test: 1.65  accuracy test: 0.81\n",
      "66 loss train: 0.1 accuracy train: 0.98 loss test: 1.78  accuracy test: 0.79\n",
      "67 loss train: 0.05 accuracy train: 0.98 loss test: 1.57  accuracy test: 0.83\n",
      "68 loss train: 0.08 accuracy train: 0.97 loss test: 1.58  accuracy test: 0.8\n",
      "69 loss train: 0.07 accuracy train: 0.99 loss test: 1.33  accuracy test: 0.79\n",
      "70 loss train: 0.06 accuracy train: 0.99 loss test: 1.7  accuracy test: 0.79\n",
      "71 loss train: 0.07 accuracy train: 0.98 loss test: 1.46  accuracy test: 0.78\n",
      "72 loss train: 0.07 accuracy train: 0.96 loss test: 1.33  accuracy test: 0.82\n",
      "73 loss train: 0.08 accuracy train: 0.98 loss test: 1.24  accuracy test: 0.79\n",
      "74 loss train: 0.07 accuracy train: 0.97 loss test: 1.54  accuracy test: 0.83\n",
      "75 loss train: 0.04 accuracy train: 0.98 loss test: 1.63  accuracy test: 0.77\n",
      "76 loss train: 0.09 accuracy train: 0.97 loss test: 1.29  accuracy test: 0.8\n",
      "77 loss train: 0.05 accuracy train: 0.98 loss test: 1.92  accuracy test: 0.8\n",
      "78 loss train: 0.03 accuracy train: 0.99 loss test: 1.2  accuracy test: 0.8\n",
      "79 loss train: 0.03 accuracy train: 0.99 loss test: 1.82  accuracy test: 0.79\n",
      "80 loss train: 0.05 accuracy train: 0.98 loss test: 1.9  accuracy test: 0.77\n",
      "81 loss train: 0.04 accuracy train: 0.99 loss test: 1.44  accuracy test: 0.78\n",
      "82 loss train: 0.1 accuracy train: 0.97 loss test: 1.61  accuracy test: 0.8\n",
      "83 loss train: 0.03 accuracy train: 0.99 loss test: 2.07  accuracy test: 0.79\n",
      "84 loss train: 0.11 accuracy train: 0.97 loss test: 1.48  accuracy test: 0.83\n",
      "85 loss train: 0.08 accuracy train: 0.97 loss test: 1.25  accuracy test: 0.79\n",
      "86 loss train: 0.04 accuracy train: 0.98 loss test: 1.32  accuracy test: 0.81\n",
      "87 loss train: 0.05 accuracy train: 0.98 loss test: 1.85  accuracy test: 0.81\n",
      "88 loss train: 0.05 accuracy train: 0.98 loss test: 1.71  accuracy test: 0.8\n",
      "89 loss train: 0.07 accuracy train: 0.98 loss test: 1.68  accuracy test: 0.78\n",
      "90 loss train: 0.04 accuracy train: 0.98 loss test: 1.59  accuracy test: 0.8\n",
      "91 loss train: 0.05 accuracy train: 0.98 loss test: 1.82  accuracy test: 0.77\n",
      "92 loss train: 0.05 accuracy train: 0.98 loss test: 1.52  accuracy test: 0.84\n",
      "93 loss train: 0.09 accuracy train: 0.98 loss test: 1.87  accuracy test: 0.85\n",
      "94 loss train: 0.06 accuracy train: 0.97 loss test: 1.58  accuracy test: 0.76\n",
      "95 loss train: 0.08 accuracy train: 0.96 loss test: 1.34  accuracy test: 0.84\n",
      "96 loss train: 0.06 accuracy train: 0.98 loss test: 1.55  accuracy test: 0.85\n",
      "97 loss train: 0.04 accuracy train: 0.99 loss test: 1.96  accuracy test: 0.81\n",
      "98 loss train: 0.04 accuracy train: 1.0 loss test: 1.55  accuracy test: 0.82\n",
      "99 loss train: 0.06 accuracy train: 0.99 loss test: 1.55  accuracy test: 0.81\n"
     ]
    }
   ],
   "source": [
    "\n",
    "### train the model\n",
    "epoch = 100\n",
    "lambda_ = 10**-2\n",
    "criterion = nn.CrossEntropyLoss()\n",
    "optimizer = optim.SGD(net.parameters(),lr = 0.01,momentum = 0.5)\n",
    "i = 0\n",
    "loss_train = []\n",
    "loss_test = []\n",
    "accuracy_train = []\n",
    "accuracy_test = []\n",
    "for e in range(epoch):\n",
    "    if e == 30:\n",
    "        optimizer = optim.SGD(net.parameters(),lr = 0.003,momentum = 0.5)\n",
    "    if e== 60:\n",
    "        optimizer = optim.SGD(net.parameters(),lr = 0.001,momentum = 0.5)\n",
    "    for input_, target_ in dataset_loader:\n",
    "        input_ = Variable(input_)\n",
    "        target_ = Variable(target_)\n",
    "        output = net(input_).view(-1,2)\n",
    "        loss = criterion(output,target_) + lambda_ * l1_reguralizer(net.parameters())\n",
    "        net.zero_grad()\n",
    "        loss.backward()\n",
    "        optimizer.step()\n",
    "        \n",
    "        \n",
    "    if e%1 == 0: # print the loss every 10 epochs\n",
    "        output = net(test_input).view(-1,2)\n",
    "        a,predicted_class = output.max(dim=1)\n",
    "        output_train = net(train_input).view(-1,2)\n",
    "        a,predicted_class_train = output_train.max(dim=1)\n",
    "        accuracy_train.append(accuracy(predicted_class_train,train_target).data[0])\n",
    "        accuracy_test.append(accuracy(predicted_class,test_target).data[0])\n",
    "        loss_train.append(criterion(output_train,train_target).data[0]+ lambda_ * l1_reguralizer(net.parameters()).data[0])\n",
    "        loss_test.append(criterion(output,test_target).data[0]+ lambda_ * l1_reguralizer(net.parameters()).data[0])\n",
    "        print(e//1,'loss train:',round(loss_train[-1],2), 'accuracy train:', round(accuracy_train[-1],2),\\\n",
    "              'loss test:',round(loss_test[-1],2),' accuracy test:',round(accuracy_test[-1],2))"
   ]
  },
  {
   "cell_type": "code",
   "execution_count": 152,
   "metadata": {
    "collapsed": false,
    "scrolled": true
   },
   "outputs": [
    {
     "data": {
      "text/plain": [
       "[<matplotlib.lines.Line2D at 0x1119c6978>]"
      ]
     },
     "execution_count": 152,
     "metadata": {},
     "output_type": "execute_result"
    },
    {
     "data": {
      "image/png": "[encoded data removed]",
      "text/plain": [
       "<Figure size 600x400 with 1 Axes>"
      ]
     },
     "metadata": {},
     "output_type": "display_data"
    }
   ],
   "source": [
    "plt.plot(loss_train)\n",
    "plt.plot(loss_test)"
   ]
  },
  {
   "cell_type": "code",
   "execution_count": 154,
   "metadata": {
    "collapsed": false
   },
   "outputs": [
    {
     "data": {
      "text/plain": [
       "[<matplotlib.lines.Line2D at 0x1119d1400>]"
      ]
     },
     "execution_count": 154,
     "metadata": {},
     "output_type": "execute_result"
    },
    {
     "data": {
      "image/png": "[encoded data removed]",
      "text/plain": [
       "<Figure size 600x400 with 1 Axes>"
      ]
     },
     "metadata": {},
     "output_type": "display_data"
    }
   ],
   "source": [
    "plt.plot(accuracy_train)\n",
    "plt.plot(accuracy_test)"
   ]
  },
  {
   "cell_type": "markdown",
   "metadata": {},
   "source": [
    "## Average between 3"
   ]
  },
  {
   "cell_type": "code",
   "execution_count": 59,
   "metadata": {
    "collapsed": false
   },
   "outputs": [],
   "source": [
    "class0 = train_input[(train_target == 0).nonzero(),]\n",
    "class1 = train_input[(train_target == 1).nonzero(),]\n",
    "class0.squeeze_(dim=1)\n",
    "class1.squeeze_(dim=1)\n",
    "\n",
    "N = class0.shape[0]\n",
    "train_input_aug0 = [(class0[randint(0,N-1)]+class0[randint(0,N-1)]+ class0[randint(0,N-1)])/3 for i in range(200*10**3)]\n",
    "train_input_aug0 = torch.stack(train_input_aug0)\n",
    "train_out_aug0 = Variable(Tensor(train_input_aug0.shape[0]).fill_(0))\n",
    "N = class1.shape[0]\n",
    "train_input_aug1 = [(class0[randint(0,N-1)]+class0[randint(0,N-1)]+ class0[randint(0,N-1)])/3 for i in range(200*10**3)]\n",
    "train_input_aug1 = torch.stack(train_input_aug1)\n",
    "train_out_aug1 = Variable(Tensor(train_input_aug1.shape[0]).fill_(1))\n",
    "\n",
    "###\n",
    "train_aug = torch.cat((train_input_aug0,train_input_aug1))\n",
    "train_target_aug = torch.cat((train_out_aug0,train_out_aug1)).data.long()"
   ]
  },
  {
   "cell_type": "code",
   "execution_count": 61,
   "metadata": {
    "collapsed": true
   },
   "outputs": [],
   "source": [
    "data = Dataset(train_aug,train_target_aug)\n",
    "dataset_loader = torch.utils.data.DataLoader(data,\n",
    "                                             batch_size = 100, shuffle=True,\n",
    "                                             num_workers=4)"
   ]
  },
  {
   "cell_type": "code",
   "execution_count": 62,
   "metadata": {
    "collapsed": true
   },
   "outputs": [],
   "source": [
    "net = Net()"
   ]
  },
  {
   "cell_type": "code",
   "execution_count": 70,
   "metadata": {
    "collapsed": false
   },
   "outputs": [
    {
     "name": "stdout",
     "output_type": "stream",
     "text": [
      "0 loss train: 0.972797155380249 loss test: 1.0354115962982178  accuracy test: 0.47999998927116394\n",
      "1 loss train: 0.9761149883270264 loss test: 1.1677064895629883  accuracy test: 0.5099999904632568\n",
      "2 loss train: 0.9124852418899536 loss test: 0.981426477432251  accuracy test: 0.49000000953674316\n",
      "3 loss train: 0.9623199701309204 loss test: 1.0508921146392822  accuracy test: 0.47999998927116394\n",
      "4 loss train: 0.9801075458526611 loss test: 1.0371037721633911  accuracy test: 0.47999998927116394\n",
      "5 loss train: 0.9583073854446411 loss test: 1.1277952194213867  accuracy test: 0.5099999904632568\n",
      "6 loss train: 0.9784257411956787 loss test: 1.0535842180252075  accuracy test: 0.46000000834465027\n",
      "7 loss train: 0.9714837670326233 loss test: 1.118096947669983  accuracy test: 0.44999998807907104\n",
      "8 loss train: 0.9817187190055847 loss test: 1.2405074834823608  accuracy test: 0.5199999809265137\n",
      "9 loss train: 0.9704495072364807 loss test: 1.1885745525360107  accuracy test: 0.5099999904632568\n"
     ]
    }
   ],
   "source": [
    "### train the model\n",
    "epoch = 10\n",
    "criterion = nn.CrossEntropyLoss()\n",
    "optimizer = optim.SGD(net.parameters(),lr = 0.0001,momentum = 0.5)\n",
    "i = 0\n",
    "for e in range(epoch):\n",
    "    for input_, target_ in dataset_loader:\n",
    "        input_ = Variable(input_)\n",
    "        target_ = Variable(target_)\n",
    "        output = net(input_).view(-1,2)\n",
    "        loss = criterion(output,target_)\n",
    "        net.zero_grad()\n",
    "        loss.backward()\n",
    "        optimizer.step()\n",
    "    if e%1 == 0: # print the loss every 10 epochs\n",
    "        output = net(test_input).view(-1,2)\n",
    "        a,predicted_class = output.max(dim=1)\n",
    "        output_train = net(train_input).view(-1,2)\n",
    "        a,predicted_class_train = output.max(dim=1)\n",
    "        #predicted_class = 1*(predicted_class.float().mean(dim=1) > 0.5)\n",
    "        print(e//1,'loss train:',criterion(output_train,train_target).data[0],'loss test:',criterion(output,test_target).data[0],' accuracy test:',accuracy(predicted_class,test_target).data[0])"
   ]
  },
  {
   "cell_type": "code",
   "execution_count": null,
   "metadata": {
    "collapsed": true
   },
   "outputs": [],
   "source": []
  }
 ],
 "metadata": {
  "anaconda-cloud": {},
  "kernelspec": {
   "display_name": "Python [anaconda3]",
   "language": "python",
   "name": "Python [anaconda3]"
  },
  "language_info": {
   "codemirror_mode": {
    "name": "ipython",
    "version": 3
   },
   "file_extension": ".py",
   "mimetype": "text/x-python",
   "name": "python",
   "nbconvert_exporter": "python",
   "pygments_lexer": "ipython3",
   "version": "3.5.2"
  }
 },
 "nbformat": 4,
 "nbformat_minor": 2
}
